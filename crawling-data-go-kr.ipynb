{
 "cells": [
  {
   "cell_type": "code",
   "execution_count": 51,
   "metadata": {},
   "outputs": [],
   "source": [
    "import requests\n",
    "from urllib.parse import urlencode, quote_plus\n",
    "# data.go.kr 서비스키\n",
    "data_go_kr_service_key = 'AWPX2U3ssY9fg72URfAFROJ6gBO6%2BgYFu4LEOhedf0Q1DXjvc6P%2BSnOfAKKv%2BPUxJMzNK1s53KMkHab9%2FwbS%2FA%3D%3D'\n",
    "\n",
    "# (신)동네예보정보조회서비스 \n",
    "end_points = {'new_weather' : 'http://newsky2.kma.go.kr/service/SecndSrtpdFrcstInfoService2'}"
   ]
  },
  {
   "cell_type": "code",
   "execution_count": null,
   "metadata": {},
   "outputs": [],
   "source": []
  },
  {
   "cell_type": "code",
   "execution_count": null,
   "metadata": {},
   "outputs": [],
   "source": []
  },
  {
   "cell_type": "markdown",
   "metadata": {},
   "source": [
    "#### '서비스키' 라고 적힌 위치에는 실제로 data.go.kr 에서 제공받은 서비스키를 적어넣어야한다!"
   ]
  },
  {
   "cell_type": "markdown",
   "metadata": {},
   "source": [
    "```\n",
    "# Python 샘플 코드 (python 2.x) #\n",
    "\n",
    "from urllib2 import Request, urlopen\n",
    "from urllib import urlencode, quote_plus\n",
    "\n",
    "url = 'http://openapi.airkorea.or.kr/openapi/services/rest/ArpltnInforInqireSvc/getCtprvnMesureSidoLIst'\n",
    "queryParams = '?' + urlencode({ quote_plus('ServiceKey') : '서비스키', quote_plus('numOfRows') : '10', quote_plus('pageNo') : '1', quote_plus('sidoName') : '서울', quote_plus('searchCondition') : 'DAILY' })\n",
    "\n",
    "\n",
    "request = Request(url + queryParams)\n",
    "request.get_method = lambda: 'GET'\n",
    "response_body = urlopen(request).read()\n",
    "print (response_body)\n",
    "```"
   ]
  },
  {
   "cell_type": "code",
   "execution_count": 52,
   "metadata": {},
   "outputs": [
    {
     "name": "stdout",
     "output_type": "stream",
     "text": [
      "req_msg =  http://openapi.airkorea.or.kr/openapi/services/rest/ArpltnInforInqireSvc/getCtprvnMesureSidoLIst?ServiceKey=AWPX2U3ssY9fg72URfAFROJ6gBO6%252BgYFu4LEOhedf0Q1DXjvc6P%252BSnOfAKKv%252BPUxJMzNK1s53KMkHab9%252FwbS%252FA%253D%253D&numOfRows=10&pageNo=1&sidoName=%EC%84%9C%EC%9A%B8&searchCondition=DAILY\n",
      "r =  <Response [200]>\n",
      "r.text =  <?xml version=\"1.0\" encoding=\"UTF-8\"?>\r\n",
      "\r\n",
      "\r\n",
      "\r\n",
      "\r\n",
      "<response>\r\n",
      "\t<header>\r\n",
      "\t\t<resultCode>30</resultCode>\r\n",
      "\t\t<resultMsg>SERVICE KEY IS NOT REGISTERED ERROR.</resultMsg>\r\n",
      "\t</header>\r\n",
      "</response>\r\n",
      "\n"
     ]
    }
   ],
   "source": [
    "import requests\n",
    "from urllib.parse import urlencode, quote_plus\n",
    "\n",
    "url = 'http://openapi.airkorea.or.kr/openapi/services/rest/ArpltnInforInqireSvc/getCtprvnMesureSidoLIst'\n",
    "queryParams = '?' + urlencode({ quote_plus('ServiceKey') : data_go_kr_service_key, \n",
    "                               quote_plus('numOfRows') : '10', \n",
    "                               quote_plus('pageNo') : '1', \n",
    "                               quote_plus('sidoName') : '서울', \n",
    "                               quote_plus('searchCondition') : 'DAILY' })\n",
    "\n",
    "req_message = url + queryParams\n",
    "print ('req_msg = ', req_message)\n",
    "r = requests.get(req_message)\n",
    "print ('r = ', r)\n",
    "print ('r.text = ', r.text)"
   ]
  },
  {
   "cell_type": "code",
   "execution_count": 45,
   "metadata": {},
   "outputs": [
    {
     "name": "stdout",
     "output_type": "stream",
     "text": [
      "<Response [200]>\n"
     ]
    }
   ],
   "source": [
    "print (r)"
   ]
  },
  {
   "cell_type": "code",
   "execution_count": 46,
   "metadata": {},
   "outputs": [
    {
     "data": {
      "text/plain": [
       "'<?xml version=\"1.0\" encoding=\"UTF-8\"?>\\r\\n\\r\\n\\r\\n\\r\\n\\r\\n<response>\\r\\n\\t<header>\\r\\n\\t\\t<resultCode>30</resultCode>\\r\\n\\t\\t<resultMsg>SERVICE KEY IS NOT REGISTERED ERROR.</resultMsg>\\r\\n\\t</header>\\r\\n</response>\\r\\n'"
      ]
     },
     "execution_count": 46,
     "metadata": {},
     "output_type": "execute_result"
    }
   ],
   "source": [
    "r.text"
   ]
  },
  {
   "cell_type": "markdown",
   "metadata": {},
   "source": [
    "> '<?xml version=\"1.0\" encoding=\"UTF-8\"?>\\r\\n\\r\\n\\r\\n\\r\\n\\r\\n<response>\\r\\n\\t<header>\\r\\n\\t\\t<resultCode>30</resultCode>\\r\\n\\t\\t<resultMsg>SERVICE KEY IS NOT REGISTERED ERROR.</resultMsg>\\r\\n\\t</header>\\r\\n</response>\\r\\n'"
   ]
  },
  {
   "cell_type": "code",
   "execution_count": null,
   "metadata": {},
   "outputs": [],
   "source": []
  },
  {
   "cell_type": "markdown",
   "metadata": {},
   "source": [
    "# data.go.kr (신)동네예보정보조회서비스\n",
    "```\n",
    "기본정보\n",
    "서비스명\t(신)동네예보정보조회서비스   상세설명\n",
    "서비스 유형\tREST\t일일트래픽\t0\t평균응답속도(초)\t0\n",
    "심의여부\t자동승인\t신청유형\t개발계정 | 활용신청\t처리상태\t승인\n",
    "활용기간\t2018-01-20 ~ 2020-01-20\n",
    "서비스정보\n",
    "일반 인증키 \n",
    "(UTF-8)\te%2FIheynbXVWrEo8ukpHuxUjiXgCbo%2BfsGim9HcvcpKNLHc%2B4amNjEHkmGUb%2F8JPWaIyzCO%2BIlyPzJaD2MKhsnQ%3D%3D  \n",
    "End Point\thttp://newsky2.kma.go.kr/service/SecndSrtpdFrcstInfoService2\n",
    "데이터포맷\tXML\n",
    "참고문서\t_신_동네예보정보조회서비스_1.5.zip\n",
    "```\n",
    "\n",
    "* 인증키가 데이터베이스에 등록되려면 1시간 정도 걸린다고 한다. http://makeshare.org/bbs/board.php?bo_table=raspberrypi&wr_id=63"
   ]
  },
  {
   "cell_type": "code",
   "execution_count": 36,
   "metadata": {},
   "outputs": [],
   "source": [
    "service_key = 'e%2FIheynbXVWrEo8ukpHuxUjiXgCbo%2BfsGim9HcvcpKNLHc%2B4amNjEHkmGUb%2F8JPWaIyzCO%2BIlyPzJaD2MKhsnQ%3D%3D'"
   ]
  },
  {
   "cell_type": "code",
   "execution_count": 16,
   "metadata": {},
   "outputs": [
    {
     "ename": "ModuleNotFoundError",
     "evalue": "No module named 'urllib2'",
     "output_type": "error",
     "traceback": [
      "\u001b[0;31m---------------------------------------------------------------------------\u001b[0m",
      "\u001b[0;31mModuleNotFoundError\u001b[0m                       Traceback (most recent call last)",
      "\u001b[0;32m<ipython-input-16-a2b7fc79c7e5>\u001b[0m in \u001b[0;36m<module>\u001b[0;34m()\u001b[0m\n\u001b[1;32m      2\u001b[0m \u001b[0;34m\u001b[0m\u001b[0m\n\u001b[1;32m      3\u001b[0m \u001b[0;34m\u001b[0m\u001b[0m\n\u001b[0;32m----> 4\u001b[0;31m \u001b[0;32mfrom\u001b[0m \u001b[0murllib2\u001b[0m \u001b[0;32mimport\u001b[0m \u001b[0mRequest\u001b[0m\u001b[0;34m,\u001b[0m \u001b[0murlopen\u001b[0m\u001b[0;34m\u001b[0m\u001b[0m\n\u001b[0m\u001b[1;32m      5\u001b[0m \u001b[0;32mfrom\u001b[0m \u001b[0murllib\u001b[0m\u001b[0;34m.\u001b[0m\u001b[0mparse\u001b[0m \u001b[0;32mimport\u001b[0m \u001b[0murlencode\u001b[0m\u001b[0;34m,\u001b[0m \u001b[0mquote_plus\u001b[0m\u001b[0;34m\u001b[0m\u001b[0m\n\u001b[1;32m      6\u001b[0m \u001b[0;34m\u001b[0m\u001b[0m\n",
      "\u001b[0;31mModuleNotFoundError\u001b[0m: No module named 'urllib2'"
     ]
    }
   ],
   "source": [
    "# Python 샘플 코드 #\n",
    "\n",
    "\n",
    "from urllib2 import Request, urlopen\n",
    "from urllib.parse import urlencode, quote_plus\n",
    "\n",
    "url = 'http://newsky2.kma.go.kr/service/SecndSrtpdFrcstInfoService2/ForecastSpaceData'\n",
    "queryParams = '?' + urlencode({ quote_plus('ServiceKey') : '서비스키', quote_plus('ServiceKey') : 'TEST_SERVICE_KEY', quote_plus('base_date') : '20151201', quote_plus('base_time') : '0500', quote_plus('nx') : '60', quote_plus('ny') : '127', quote_plus('numOfRows') : '10', quote_plus('pageNo') : '1', quote_plus('_type') : 'xml' })\n",
    "\n",
    "request = Request(url + queryParams)\n",
    "request.get_method = lambda: 'GET'\n",
    "response_body = urlopen(request).read()\n",
    "print (response_body)"
   ]
  },
  {
   "cell_type": "code",
   "execution_count": 37,
   "metadata": {},
   "outputs": [
    {
     "name": "stdout",
     "output_type": "stream",
     "text": [
      "http://newsky2.kma.go.kr/service/SecndSrtpdFrcstInfoService2/ForecastSpaceData?ServiceKey=e%252FIheynbXVWrEo8ukpHuxUjiXgCbo%252BfsGim9HcvcpKNLHc%252B4amNjEHkmGUb%252F8JPWaIyzCO%252BIlyPzJaD2MKhsnQ%253D%253D&base_date=20151201&base_time=0500&nx=60&ny=127&numOfRows=10&pageNo=1&_type=xml\n"
     ]
    }
   ],
   "source": [
    "import requests\n",
    "from urllib.parse import urlencode, quote_plus\n",
    "\n",
    "url = 'http://newsky2.kma.go.kr/service/SecndSrtpdFrcstInfoService2/ForecastSpaceData'\n",
    "queryParams = '?' + urlencode({ quote_plus('ServiceKey') : '서비스키', quote_plus('ServiceKey') : service_key, quote_plus('base_date') : '20151201', quote_plus('base_time') : '0500', quote_plus('nx') : '60', quote_plus('ny') : '127', quote_plus('numOfRows') : '10', quote_plus('pageNo') : '1', quote_plus('_type') : 'xml' })\n",
    "\n",
    "request_msg = url + queryParams\n",
    "print (request_msg)\n",
    "r = requests.get (request_msg)"
   ]
  },
  {
   "cell_type": "code",
   "execution_count": 24,
   "metadata": {},
   "outputs": [
    {
     "data": {
      "text/plain": [
       "'<?xml version=\"1.0\" encoding=\"UTF-8\" standalone=\"yes\"?><response><header><resultCode>30</resultCode><resultMsg>SERVICE KEY IS NOT REGISTERED ERROR.</resultMsg></header></response>'"
      ]
     },
     "execution_count": 24,
     "metadata": {},
     "output_type": "execute_result"
    }
   ],
   "source": [
    "r.text"
   ]
  },
  {
   "cell_type": "markdown",
   "metadata": {},
   "source": [
    "# 출입국 관광 통계 서비스\n",
    "```\n",
    "기본정보\n",
    "서비스명\t출입국관광통계서비스   상세설명\n",
    "서비스 유형\tREST\t일일트래픽\t0\t평균응답속도(초)\t0\n",
    "심의여부\t자동승인\t신청유형\t개발계정 | 활용신청\t처리상태\t승인\n",
    "활용기간\t2018-01-18 ~ 2020-01-18\n",
    "서비스정보\n",
    "일반 인증키 \n",
    "(UTF-8)\te%2FIheynbXVWrEo8ukpHuxUjiXgCbo%2BfsGim9HcvcpKNLHc%2B4amNjEHkmGUb%2F8JPWaIyzCO%2BIlyPzJaD2MKhsnQ%3D%3D   복사\n",
    "End Point\thttp://openapi.tour.go.kr/openapi/service\n",
    "데이터포맷\tXML\n",
    "참고문서\tIROS_SS_ID_DV_0501_OpenAPI활용가이드(한국문화관광연구원_출입국관광통계서비스)_v1.0.doc 상세기능정보\n",
    "개발가이드\n",
    "NO\t상세기능\t설명\t활용제한 여부\t일일 트래픽\t심의결과\t미리보기 다운로드\n",
    "1\t출입국관광통계조회\t기간, 국가의 검색조건에 따라 관광출입국자수를 제공하는 기능\t1000 승인\t실행\n",
    "2\t국민해외관광객통계조회\t월별, 성별, 연령대, 출국항의 검색 조건에 따라 국민해외관광객수를 제공하는 기능\t1000 승인\t실행\n",
    "3\t방한외래관광객통계조회\t월별, 국적, 성별, 연령대, 여행목적, 입국항의 검색 조건에 따라 방한외래관광객수를 제공하는 기능\t 1000 승인\t실행\n",
    "4\t방한외래관광객평균체재일조회\t월별, 국적의 검색 조건에 따라 방한외래관광객 평균체재일수를 제공하는 기능\t1000 승인\t실행\n",
    "5\t관광수지조회\t월별 관광 수입과 지출, 1인당 평균 소비액을 제공하는 기능\t1000 승인\t실행\n",
    "```\n",
    "* 개발 가이트를 클릭하면 맨 아래쪽에 샘플코드를 제공한다. 파이선을 선택하면 아래 코드를 보여준다. python 2.x 이다.\n",
    "```\n",
    "# Python 샘플 코드 #\n",
    "\n",
    "from urllib2 import Request, urlopen\n",
    "from urllib import urlencode, quote_plus\n",
    "\n",
    "url = 'http://openapi.tour.go.kr/openapi/service/EdrcntTourismStatsService/getTourismBalcList'\n",
    "queryParams = '?' + urlencode({ quote_plus('ServiceKey') : '서비스키', quote_plus('파라미터영문명') : '파라미터기본값' })\n",
    "\n",
    "request = Request(url + queryParams)\n",
    "request.get_method = lambda: 'GET'\n",
    "response_body = urlopen(request).read()\n",
    "print response_body\n",
    "```\n",
    "* 서비스키 부분은 일반 인증키로 바꿔야한다.\n",
    "* 파라메터영문명, 파라메터기본값 부분을 적절하게 변경해야한다.\n",
    "\n",
    "* 일반 인증키를 스트링으로 만들어 둔다.\n",
    "```\n",
    "service_key = 'e%2FIheynbXVWrEo8ukpHuxUjiXgCbo%2BfsGim9HcvcpKNLHc%2B4amNjEHkmGUb%2F8JPWaIyzCO%2BIlyPzJaD2MKhsnQ%3D%3D'\n",
    "```"
   ]
  },
  {
   "cell_type": "code",
   "execution_count": 26,
   "metadata": {},
   "outputs": [],
   "source": [
    "service_key = 'e%2FIheynbXVWrEo8ukpHuxUjiXgCbo%2BfsGim9HcvcpKNLHc%2B4amNjEHkmGUb%2F8JPWaIyzCO%2BIlyPzJaD2MKhsnQ%3D%3D'"
   ]
  },
  {
   "cell_type": "code",
   "execution_count": 35,
   "metadata": {},
   "outputs": [
    {
     "name": "stdout",
     "output_type": "stream",
     "text": [
      "requests message:  http://openapi.tour.go.kr/openapi/service/EdrcntTourismStatsService/getTourismBalcList?ServiceKey=e%252FIheynbXVWrEo8ukpHuxUjiXgCbo%252BfsGim9HcvcpKNLHc%252B4amNjEHkmGUb%252F8JPWaIyzCO%252BIlyPzJaD2MKhsnQ%253D%253D&_type=json\n",
      "status_code: 200\n",
      "text={\"response\":{\"header\":{\"responseTime\":\"2018-01-20T15:22:42.084+09:00\",\"resultCode\":30,\"resultMsg\":\"SERVICE KEY IS NOT REGISTERED ERROR.\"}}}\n"
     ]
    }
   ],
   "source": [
    "import requests\n",
    "from urllib.parse import urlencode, quote_plus\n",
    "\n",
    "url = 'http://openapi.tour.go.kr/openapi/service/EdrcntTourismStatsService/getTourismBalcList'\n",
    "query_params = '?' + urlencode({ quote_plus('ServiceKey') : service_key, quote_plus('_type') : 'json' })\n",
    "req_msg = url + query_params\n",
    "print ('requests message: ', req_msg)\n",
    "r = requests.get (req_msg)\n",
    "print ('status_code: {}\\ntext={}'.format(r.status_code, r.text))"
   ]
  },
  {
   "cell_type": "code",
   "execution_count": null,
   "metadata": {},
   "outputs": [],
   "source": []
  }
 ],
 "metadata": {
  "kernelspec": {
   "display_name": "Python 3",
   "language": "python",
   "name": "python3"
  },
  "language_info": {
   "codemirror_mode": {
    "name": "ipython",
    "version": 3
   },
   "file_extension": ".py",
   "mimetype": "text/x-python",
   "name": "python",
   "nbconvert_exporter": "python",
   "pygments_lexer": "ipython3",
   "version": "3.6.3"
  }
 },
 "nbformat": 4,
 "nbformat_minor": 2
}
