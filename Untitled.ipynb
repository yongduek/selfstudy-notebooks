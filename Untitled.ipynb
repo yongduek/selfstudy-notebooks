{
 "cells": [
  {
   "cell_type": "code",
   "execution_count": 4,
   "metadata": {},
   "outputs": [],
   "source": [
    "import scipy.linalg as la\n",
    "import numpy as np"
   ]
  },
  {
   "cell_type": "code",
   "execution_count": 11,
   "metadata": {},
   "outputs": [
    {
     "name": "stdout",
     "output_type": "stream",
     "text": [
      "[[    1.  1000.]\n",
      " [    0.     1.]]\n",
      "[[  1.00000000e+00   1.00000000e+03]\n",
      " [  1.00000000e-03   1.00000000e+00]]\n"
     ]
    }
   ],
   "source": [
    "A = np.array([[1., 1000], [0,1]])\n",
    "B = np.array([[1,1000], [0.001, 1]])\n",
    "print(A)\n",
    "print(B)"
   ]
  },
  {
   "cell_type": "code",
   "execution_count": 12,
   "metadata": {},
   "outputs": [
    {
     "name": "stdout",
     "output_type": "stream",
     "text": [
      "[ 1.+0.j  1.+0.j] [[  1.00000000e+00  -1.00000000e+00]\n",
      " [  0.00000000e+00   2.22044605e-19]]\n"
     ]
    }
   ],
   "source": [
    "wa, vra = la.eig(A)\n",
    "print (wa, vra)"
   ]
  },
  {
   "cell_type": "code",
   "execution_count": 13,
   "metadata": {},
   "outputs": [
    {
     "name": "stdout",
     "output_type": "stream",
     "text": [
      "[ 2.+0.j  0.+0.j] [[  9.99999500e-01  -9.99999500e-01]\n",
      " [  9.99999500e-04   9.99999500e-04]]\n"
     ]
    }
   ],
   "source": [
    "wb, vrb = la.eig(B)\n",
    "print (wb, vrb)"
   ]
  },
  {
   "cell_type": "code",
   "execution_count": null,
   "metadata": {},
   "outputs": [],
   "source": []
  }
 ],
 "metadata": {
  "kernelspec": {
   "display_name": "Python 3",
   "language": "python",
   "name": "python3"
  },
  "language_info": {
   "codemirror_mode": {
    "name": "ipython",
    "version": 3
   },
   "file_extension": ".py",
   "mimetype": "text/x-python",
   "name": "python",
   "nbconvert_exporter": "python",
   "pygments_lexer": "ipython3",
   "version": "3.6.3"
  }
 },
 "nbformat": 4,
 "nbformat_minor": 2
}
