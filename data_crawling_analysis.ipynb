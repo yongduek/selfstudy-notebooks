{
 "cells": [
  {
   "cell_type": "markdown",
   "metadata": {},
   "source": [
    "## Words:\n",
    "### URL\n",
    "Uniform Resource Locator. The address of a World Wide Web page\n",
    "### REST\n",
    "### JSON\n",
    "### HTTP GET/POST\n",
    "Hypertext Transfer Protocol, designed to enable communications between clients and servers\n",
    "- GET : requests data from a specified resource\n",
    "- POST : submits data to be processed to a specified resource\n",
    "- use `requests` python package"
   ]
  },
  {
   "cell_type": "code",
   "execution_count": 163,
   "metadata": {},
   "outputs": [],
   "source": [
    "import sys\n",
    "import urllib.request\n",
    "import json"
   ]
  },
  {
   "cell_type": "code",
   "execution_count": 164,
   "metadata": {},
   "outputs": [
    {
     "name": "stdout",
     "output_type": "stream",
     "text": [
      "548863272150582|40f5c3b028664eae0604c9ed6d67c172\n"
     ]
    }
   ],
   "source": [
    "app_id = '548863272150582'\n",
    "app_secret = '40f5c3b028664eae0604c9ed6d67c172'\n",
    "access_token = app_id + '|' + app_secret\n",
    "print (access_token)"
   ]
  },
  {
   "cell_type": "code",
   "execution_count": 155,
   "metadata": {},
   "outputs": [
    {
     "name": "stdout",
     "output_type": "stream",
     "text": [
      "url=  https://graph.facebook.com/v2.11/?access_token=EAAHzMDBd5jYBAJuZAr7HWTXfQgEaBay3Y7BWgZAQ913MWPlEubpknEpR5eElZCtZCAsMYl7wgD8WQ2pH14tGd0ctcOBlaeCccZBLxdLM19ON2miKK6yckuaciZAQEUZAO6IkRIbnZAr31eDZBmFmpSgGZCtY2EKisAMAgbFCNUPybdjgxLZAKbZBfqORR2XIZAjL7l2NHXpKZBZAfD4pgZDZD\n"
     ]
    }
   ],
   "source": [
    "page_name = 'yongduek.seo' \n",
    "access_token = 'EAAHzMDBd5jYBAJuZAr7HWTXfQgEaBay3Y7BWgZAQ913MWPlEubpknEpR5eElZCtZCAsMYl7wgD8WQ2pH14tGd0ctcOBlaeCccZBLxdLM19ON2miKK6yckuaciZAQEUZAO6IkRIbnZAr31eDZBmFmpSgGZCtY2EKisAMAgbFCNUPybdjgxLZAKbZBfqORR2XIZAjL7l2NHXpKZBZAfD4pgZDZD'\n",
    "base = 'https://graph.facebook.com/v2.11'\n",
    "node = '/' + page_name\n",
    "parameters = '/?access_token=%s' % access_token\n",
    "url = base + parameters\n",
    "print ('url= ', url)"
   ]
  },
  {
   "cell_type": "code",
   "execution_count": 178,
   "metadata": {},
   "outputs": [
    {
     "name": "stdout",
     "output_type": "stream",
     "text": [
      "url=  https://graph.facebook.com/v2.8/95.1newsfactory/?access_token=548863272150582|40f5c3b028664eae0604c9ed6d67c172\n"
     ]
    }
   ],
   "source": [
    "page_name = 'jtbcnews'\n",
    "page_name = '95.1newsfactory'\n",
    "base = 'https://graph.facebook.com/v2.8'\n",
    "node = '/' + page_name\n",
    "parameters = '/?access_token=%s' % access_token\n",
    "url = base + node + parameters\n",
    "print ('url= ', url)"
   ]
  },
  {
   "cell_type": "code",
   "execution_count": 179,
   "metadata": {},
   "outputs": [
    {
     "name": "stdout",
     "output_type": "stream",
     "text": [
      "req=  <urllib.request.Request object at 0x1109fd358>\n"
     ]
    }
   ],
   "source": [
    "req = urllib.request.Request (url)\n",
    "print ('req= ', req)"
   ]
  },
  {
   "cell_type": "code",
   "execution_count": 180,
   "metadata": {},
   "outputs": [
    {
     "data": {
      "text/plain": [
       "{'id': '572978776233169', 'name': '김어준의 뉴스공장'}"
      ]
     },
     "execution_count": 180,
     "metadata": {},
     "output_type": "execute_result"
    }
   ],
   "source": [
    "import requests\n",
    "r = requests.get(url)\n",
    "r.status_code\n",
    "r.json()"
   ]
  },
  {
   "cell_type": "code",
   "execution_count": 181,
   "metadata": {},
   "outputs": [
    {
     "name": "stdout",
     "output_type": "stream",
     "text": [
      "response=  <http.client.HTTPResponse object at 0x1114eebe0>  code =  200\n",
      "data=  {'name': '김어준의 뉴스공장', 'id': '572978776233169'}\n",
      "95.1newsfactory Facebook Numeric ID: 572978776233169\n"
     ]
    }
   ],
   "source": [
    "try:\n",
    "    response = urllib.request.urlopen (req)\n",
    "    print ('response= ', response, ' code = ', response.getcode())\n",
    "    if response.getcode() == 200:\n",
    "        data = json.loads (response.read().decode('utf-8'))\n",
    "        print ('data= ', data)\n",
    "        page_id = data['id']\n",
    "        print ('%s Facebook Numeric ID: %s' % (page_name, page_id))\n",
    "except Exception as e:\n",
    "    print (e)"
   ]
  },
  {
   "cell_type": "code",
   "execution_count": 182,
   "metadata": {},
   "outputs": [
    {
     "name": "stdout",
     "output_type": "stream",
     "text": [
      "Numeric ID =  572978776233169\n"
     ]
    }
   ],
   "source": [
    "print ('Numeric ID = ', page_id)"
   ]
  },
  {
   "cell_type": "code",
   "execution_count": 183,
   "metadata": {},
   "outputs": [],
   "source": [
    "def getFBdata (url):\n",
    "    try:\n",
    "        req = urllib.request.Request(url)\n",
    "        response = urllib.request.urlopen (req)\n",
    "        if response.getcode() == 200:\n",
    "            data = json.loads (response.read().decode('utf-8'))\n",
    "    except Exception as e:\n",
    "        print (e)\n",
    "        \n",
    "    return data"
   ]
  },
  {
   "cell_type": "code",
   "execution_count": 184,
   "metadata": {},
   "outputs": [
    {
     "name": "stdout",
     "output_type": "stream",
     "text": [
      "url=  https://graph.facebook.com/v2.8/572978776233169/posts/?fields=id,message,link,name,type,shares,reactions,created_time&since=2018-01-10&until=2018-01-20&limit=50&access_token=548863272150582|40f5c3b028664eae0604c9ed6d67c172\n"
     ]
    }
   ],
   "source": [
    "from_date = '2018-01-10'\n",
    "to_date = '2018-01-20'\n",
    "num_statuses = '50'\n",
    "\n",
    "mypageid = '1869035269804175'\n",
    "node = '/%s/posts' % page_id\n",
    "fields = '/?fields=id,message,link,name,type,shares,reactions,created_time'#,comments.limit(0).summary(true).limit(0).summary(true)'\n",
    "duration = '&since=%s&until=%s' % (from_date, to_date)\n",
    "#duration = '&until=%s' % to_date\n",
    "parameters = '&limit=%s&access_token=%s' % (num_statuses, access_token)\n",
    "url = base + node + fields + duration + parameters\n",
    "\n",
    "print ('url= ', url)"
   ]
  },
  {
   "cell_type": "code",
   "execution_count": 185,
   "metadata": {},
   "outputs": [
    {
     "name": "stdout",
     "output_type": "stream",
     "text": [
      "{'data': [{'id': '572978776233169_752575298273515', 'link': 'https://www.facebook.com/mylovetbs/videos/1554023381341794/', 'name': 'tbs 시민의 방송', 'type': 'video', 'shares': {'count': 2}, 'created_time': '2018-01-17T23:55:22+0000'}, {'id': '572978776233169_752575231606855', 'link': 'https://www.facebook.com/mylovetbs/videos/1554101268000672/', 'name': 'tbs 시민의 방송', 'type': 'video', 'shares': {'count': 3}, 'created_time': '2018-01-17T23:55:03+0000'}, {'id': '572978776233169_752575148273530', 'link': 'https://www.facebook.com/mylovetbs/videos/1554029581341174/', 'name': 'tbs 시민의 방송', 'type': 'video', 'created_time': '2018-01-17T23:54:47+0000'}, {'id': '572978776233169_752561338274911', 'message': '원더걸스(부제 머리끄댕이) 막전막후\\n\\n#2\\n\\n방송 후 대방출되는 화기애애함\\n\\n#시사계원더걸스 #문자대폭발 #이번주는라디오동시에3개튼거같아요 #대표님카메라가리지마세요', 'link': 'https://www.facebook.com/95.1newsfactory/videos/752561338274911/', 'type': 'video', 'shares': {'count': 10}, 'created_time': '2018-01-17T23:06:37+0000'}, {'id': '572978776233169_752560901608288', 'message': '원더걸스(부제 머리끄댕이) 막전막후\\n\\n#1\\n가까이 하기엔 너무 먼 당신??\\n\\n하지만......', 'link': 'https://www.facebook.com/95.1newsfactory/photos/a.672145356316510.1073741829.572978776233169/752560888274956/?type=3', 'type': 'photo', 'shares': {'count': 6}, 'created_time': '2018-01-17T23:00:36+0000'}, {'id': '572978776233169_752535724944139', 'message': \"1월 18일 목요일 방송내용\\n\\n◎ 1부\\n\\n[이 정도는 알아야 할 아침 뉴스]\\n-시사IN 김은지 기자\\n\\n◎ 2부\\n\\n[원더걸스]\\nMB '정치보복' 입장발표 등 정국 현안에 대한 여야 입장은?\\n- 박영선 의원 (더불어민주당)\\n- 나경원 의원 (자유한국당)\\n\\n◎ 3부\\n\\n[정치구단주]\\n개혁신당 창당 선언! 안철수와 결별하나?\\n- 박지원 전 대표 (국민의당)\\n\\n◎ 4부\\n\\n[그것마저 알려주마] \\n평창올림픽 남북 한반도기 공동입장에 대한 국민 여론은?\\n- 권순정 조사분석 실장 (리얼미터)\\n\\n[뉴스공장 고객센터 불만접수]\\n\\n[도시이야기]\\n주택보급률 102%... 맞는거야? 부족한거야?\\n- 김진애 도시건축가 (전 의원)\", 'type': 'status', 'shares': {'count': 2}, 'created_time': '2018-01-17T21:26:10+0000'}, {'id': '572978776233169_752252731639105', 'link': 'https://www.facebook.com/mylovetbs/videos/1552214524856013/', 'name': 'tbs 시민의 방송', 'type': 'video', 'created_time': '2018-01-17T09:08:06+0000'}, {'id': '572978776233169_752252668305778', 'link': 'https://www.facebook.com/mylovetbs/videos/1553261054751360/', 'name': 'tbs 시민의 방송', 'type': 'video', 'shares': {'count': 2}, 'created_time': '2018-01-17T09:07:46+0000'}, {'id': '572978776233169_752074654990246', 'message': '1월 17일 수요일 방송내용\\n밤사이 반가운 소식이 있었죠?\\n오늘 출근길도 뉴스공장과 함께 하세요!\\n\\n◎ 1부\\n\\n[이 정도는 알아야 할 아침 뉴스]\\n-시사IN 김은지 기자\\n\\n[잠깐만 인터뷰]\\n‘MB 측근’ 김백준·김진모 나란히 구속, 의미는?\\n- 이정렬 전 부장판사(법무법인 동안 사무장)\\n\\n◎ 2부\\n\\n[내부자둘]\\n개헌 반대에서 국면 전환한 한국당, 여야 속내는?\\n- 김성태 원내대표 (자유한국당)\\n- 안민석 의원 (더불어민주당)\\n\\n◎ 3부\\n\\n[코너 속의 코너]\\n\"UAE 의혹의 핵심, 임종석 비서실장 아닌 MB!\"\\n- 정의당 김종대 의원(국회 국방위 소속)\\n\\n[사회적 배려자]\\n판사 블랙리스트 및 한반도기 입장 등 현안에 대한 입장은?\\n-노회찬 원내대표 (정의당)\\n\\n◎ 4부\\n\\n[뉴스공장 고객센터 불만접수]\\n\\n[인터뷰 제 2 공장]\\n복잡한 \\'UAE 함수\\' 실마리는 연제욱?\\n- 하어영 기자 (한겨레21 이슈팀장)\\n- 김완 기자 (한겨레21)', 'type': 'status', 'shares': {'count': 9}, 'created_time': '2018-01-16T21:56:57+0000'}, {'id': '572978776233169_751744688356576', 'message': '2017 팟빵 TOP 20 에\\n김어준의 뉴스공장이 선정되었습니다!!\\n\\n생방 시간이 아닐 때에도 뉴스공장을 찾아 들어주시는\\n모든 청취자분들께 감사의 인사 올립니다😭😭\\n\\n앞으로도\\n뉴스공장과 함께해주세요🤗🤗\\n\\n#2017팟빵탑20 #청취수8억회 #8억안부럽다', 'link': 'https://www.facebook.com/95.1newsfactory/photos/a.672145356316510.1073741829.572978776233169/751740631690315/?type=3', 'name': \"Photos from 김어준의 뉴스공장's post\", 'type': 'photo', 'shares': {'count': 12}, 'created_time': '2018-01-16T02:47:09+0000'}, {'id': '572978776233169_751739691690409', 'link': 'https://www.facebook.com/mylovetbs/videos/1552214524856013/', 'name': 'tbs 시민의 방송', 'type': 'video', 'shares': {'count': 2}, 'created_time': '2018-01-16T02:24:29+0000'}, {'id': '572978776233169_751739668357078', 'link': 'https://www.facebook.com/mylovetbs/videos/1552161658194633/', 'name': 'tbs 시민의 방송', 'type': 'video', 'shares': {'count': 4}, 'created_time': '2018-01-16T02:24:21+0000'}, {'id': '572978776233169_751692395028472', 'message': '오늘 3부 김동연 부총리님을 모시고 경제현안에 대해 짚어봅니다☺️☺️\\n\\n많은 청취 부탁드립니다^^\\n\\n#미소가아름다운김동연부총리님 #실물이더멋진장관님 #공장장뒷전된스튜디오', 'link': 'https://www.facebook.com/95.1newsfactory/photos/a.672145356316510.1073741829.572978776233169/751691975028514/?type=3', 'name': \"Photos from 김어준의 뉴스공장's post\", 'type': 'photo', 'shares': {'count': 32}, 'created_time': '2018-01-15T23:09:02+0000'}, {'id': '572978776233169_751666865031025', 'message': '1월 16일 화요일 방송내용\\n\\n오늘 3부에는 \\n김동연 부총리를 직접 스튜디오에 모시고\\n주요 경제현안에 대해 짚어봅니다!\\n\\n오늘 출근길도 뉴스공장과 함께하세요!!\\n\\n◎ 1부\\n\\n \\n\\n[이 정도는 알아야 할 아침 뉴스]\\n-시사IN 김은지 기자\\n\\n[잠깐만 인터뷰]\\n특활비 수수 혐의 \\'MB 집사\\' 김백준 오늘 영장심사…구속 가능성은?\\n- 이정렬 전 부장판사(법무법인 동안 사무장)\\n\\n◎ 2부\\n\\n[하태핫태]\\n남경필 \"자유한국당 복당은 바른정당 통한 보수혁신 실패 탓?\" 입장은?\\n- 하태경 최고위원 (바른정당)\\n\\n◎ 3부\\n\\n[인터뷰 제 1 공장]\\n문재인 정부 경제사령탑, 다스 주식 등 경제현안에 답한다!\\n- 김동연 부총리 (기획재정부 장관)\\n\\n◎ 4부\\n\\n[뉴스공장 고객센터 불만접수]\\n\\n[인터뷰 제 2 공장]\\n\"열심히 일한 당신, 상품권으로 받아라?\"\\n- 김완 기자 (한겨레21)', 'type': 'status', 'shares': {'count': 7}, 'created_time': '2018-01-15T21:32:01+0000'}, {'id': '572978776233169_751262721738106', 'message': '1월 15일 월요일 방송내용\\n\\n출근길 마스크 꼭 챙기세요^^!\\n오늘도 공장문 활짝 엽니다!!\\n\\n◎ 1부\\n\\n[이 정도는 알아야 할 아침 뉴스]\\n-시사IN 김은지 기자\\n\\n \\n\\n[잠깐만 인터뷰]\\n다스, 현재 수사 상황은?\\n- 주진우 기자 (시사인)\\n\\n◎ 2부\\n\\n[인터뷰 제 1 공장]\\n\"UAE 군사비밀양해각서? MB도 알았다!\"\\n- 정의당 김종대 의원 (국회 국방위 소속)\\n\\n◎ 3부\\n\\n[인터뷰 제 2 공장]\\n \\'가상화폐 열풍\\' 투기냐 투자냐… 가상화폐 규제 강화, 찬반 입장은?\\n- 김정식 교수 (연세대 경제학과)\\n- 김진화 공동대표(한국블록체인협회 준비위원회)\\n\\n◎ 4부\\n\\n[잠깐만 인터뷰]\\n정호영 특검, 검찰 책임 공방?… \"둘 다 수사 의지 없었다!\"\\n- 박범계 최고위원 (더불어민주당 적폐청산위원장)\\n\\n[뉴스공장 고객센터 불만접수]\\n\\n[글로보는글로벌]\\nMB 정부 시절 원전수주, 비밀 군사협정 맺은 UAE는 어떤 나라? \\n- 임상훈 인문결연구소 소장(국제문제평론가)', 'type': 'status', 'shares': {'count': 6}, 'created_time': '2018-01-14T21:25:39+0000'}, {'id': '572978776233169_749993291865049', 'link': 'https://www.facebook.com/mylovetbs/videos/1548634548547344/', 'name': 'tbs 시민의 방송', 'type': 'video', 'shares': {'count': 2}, 'created_time': '2018-01-11T21:46:00+0000'}, {'id': '572978776233169_749989471865431', 'message': '1월 12일 금요일 방송내용\\n\\n오늘도 뉴스공장과\\n출근길 함께 하세요^^!\\n\\n◎ 1부\\n\\n[이 정도는 알아야 할 아침 뉴스]\\n-시사IN 김은지 기자\\n\\n◎ 2부\\n\\n[인터뷰 제 1 공장]\\n“이시형 다스 부당 승계작업, 공정위가 막아야!”\\n- 전해철 의원(더불어민주당)\\n\\n[인터뷰 제 2 공장]\\n\"박종철 열사 31주기 맞아 남영동 대공분실을 시민의 품으로!\"\\n- 김학규 사무국장(박종철기념사업회)\\n\\n◎ 3부\\n\\n[쇼미더머니]\\nMB와 현대건설, 그리고 UAE 원전 의혹\\n- 안원구 전 대구지방국세청장\\n\\n◎ 4부\\n\\n[뉴스공장 고객센터 불만접수]\\n\\n \\n[까칠한 미식가]\\n감자탕의 신화\\n- 황교익 맛 칼럼니스트', 'type': 'status', 'shares': {'count': 5}, 'created_time': '2018-01-11T21:33:17+0000'}, {'id': '572978776233169_749592281905150', 'message': '‘박영선에게 김어준이란?’\\n\\n뉴스공장표 도발질문에 당황해\\n정청래 의원에게 급히 SOS 친 박영선 의원\\n\\n정청래 의원의 답은,,,,,?\\n\\n#공장장디스로하나된대기실 #공장장디스가제일재밌는두의원 #제작진에게딱걸린컨닝현장', 'link': 'https://www.facebook.com/95.1newsfactory/videos/749592281905150/', 'type': 'video', 'shares': {'count': 12}, 'created_time': '2018-01-11T00:14:44+0000'}, {'id': '572978776233169_749569701907408', 'message': '드디어 이분들이 만났습니다\\n\\n내부자둘의 뒤를 이을 야심찬 코너~~!\\n\\n원더걸스! \\n\\n많이 청취해주세요😆😆😆', 'link': 'https://www.facebook.com/95.1newsfactory/photos/a.672145356316510.1073741829.572978776233169/749569611907417/?type=3', 'name': \"Photos from 김어준의 뉴스공장's post\", 'type': 'photo', 'shares': {'count': 86}, 'created_time': '2018-01-10T22:35:37+0000'}, {'id': '572978776233169_749559148575130', 'link': 'https://www.facebook.com/mylovetbs/videos/1547783931965739/', 'name': 'tbs 시민의 방송', 'type': 'video', 'created_time': '2018-01-10T21:45:41+0000'}, {'id': '572978776233169_749559078575137', 'link': 'https://www.facebook.com/mylovetbs/videos/1547755065301959/', 'name': 'tbs 시민의 방송', 'type': 'video', 'shares': {'count': 4}, 'created_time': '2018-01-10T21:45:29+0000'}, {'id': '572978776233169_749555898575455', 'message': '1월 11일 목요일 방송내용\\n\\n뉴스공장이 새해를 맞아 \\n야심차게 준비한 코너!\\n<원더걸스>!\\n뉴스공장 2부에서 만나보세요^^!\\n\\n◎ 1부\\n\\n[이 정도는 알아야 할 아침 뉴스]\\n-시사IN 김은지 기자\\n\\n[잠깐만 인터뷰]\\n文 대통령 신년기자회견, 나는 이렇게 봤다!\\n- 정청래 전 의원\\n\\n◎ 2부\\n\\n[원더걸스(가제)]\\n대통령 신년 기자회견 등 정국 현안에 대한 입장은?\\n- 박영선 의원 (더불어민주당)\\n- 나경원 의원 (자유한국당)\\n\\n◎ 3부\\n\\n[(가제)]\\n“국민-바른 합당 동력 급속히 떨어지고 있다!”\\n- 박지원 전 대표 (국민의당)\\n\\n◎ 4부\\n\\n[그것마저 알려주마] \\n한일 위안부 합의에 대한 정부 방침! 여론은? \\n- 권순정 조사분석 실장 (리얼미터)\\n\\n[뉴스공장 고객센터 불만접수]\\n\\n[도시이야기]\\n대도시권 그린벨트의 미래\\n- 김진애 도시건축가 (전 의원)', 'type': 'status', 'shares': {'count': 4}, 'created_time': '2018-01-10T21:31:03+0000'}], 'paging': {'cursors': {'before': 'Q2c4U1pXNTBYM0YxWlhKNVgzTjBiM0o1WDJsa0R5UTFOekk1TnpnM056WXlNek14TmprNkxUWTFNakl4TWpFMk56SXpNVGN5TkRJNE16Y1BER0ZA3YVY5emRHOXllVjlwWkE4ZAk5UY3lPVGM0TnpjMk1qTXpNVFk1WHpjMU1qVTNOVEk1T0RJM016VXhOUThFZAEdsdFpRWmFYK0pxQVE9PQZDZD', 'after': 'Q2c4U1pXNTBYM0YxWlhKNVgzTjBiM0o1WDJsa0R5TTFOekk1TnpnM056WXlNek14TmprNk5qY3lPVE0yTWpRek5EQTBOVEV5TlRFNU53OE1ZAWEJwWDNOMGIzSjVYMmxrRHg4MU56STVOemczTnpZAeU16TXhOamxmTnpRNU5UVTFPRGs0TlRjMU5EVTFEd1IwYVcxbEJscFdoaGNC'}}}\n"
     ]
    }
   ],
   "source": [
    "data = getFBdata (url)\n",
    "print (data)"
   ]
  },
  {
   "cell_type": "code",
   "execution_count": 186,
   "metadata": {},
   "outputs": [
    {
     "name": "stdout",
     "output_type": "stream",
     "text": [
      "{'id': '572978776233169_752575298273515', 'link': 'https://www.facebook.com/mylovetbs/videos/1554023381341794/', 'name': 'tbs 시민의 방송', 'type': 'video', 'shares': {'count': 2}, 'created_time': '2018-01-17T23:55:22+0000'} <class 'list'>\n"
     ]
    }
   ],
   "source": [
    "print (data['data'][0], type(data['data']))"
   ]
  },
  {
   "cell_type": "code",
   "execution_count": 187,
   "metadata": {},
   "outputs": [
    {
     "name": "stdout",
     "output_type": "stream",
     "text": [
      "1  >>  data [{'id': '572978776233169_752575298273515', 'link': 'https://www.facebook.com/mylovetbs/videos/1554023381341794/', 'name': 'tbs 시민의 방송', 'type': 'video', 'shares': {'count': 2}, 'created_time': '2018-01-17T23:55:22+0000'}, {'id': '572978776233169_752575231606855', 'link': 'https://www.facebook.com/mylovetbs/videos/1554101268000672/', 'name': 'tbs 시민의 방송', 'type': 'video', 'shares': {'count': 3}, 'created_time': '2018-01-17T23:55:03+0000'}, {'id': '572978776233169_752575148273530', 'link': 'https://www.facebook.com/mylovetbs/videos/1554029581341174/', 'name': 'tbs 시민의 방송', 'type': 'video', 'created_time': '2018-01-17T23:54:47+0000'}, {'id': '572978776233169_752561338274911', 'message': '원더걸스(부제 머리끄댕이) 막전막후\\n\\n#2\\n\\n방송 후 대방출되는 화기애애함\\n\\n#시사계원더걸스 #문자대폭발 #이번주는라디오동시에3개튼거같아요 #대표님카메라가리지마세요', 'link': 'https://www.facebook.com/95.1newsfactory/videos/752561338274911/', 'type': 'video', 'shares': {'count': 10}, 'created_time': '2018-01-17T23:06:37+0000'}, {'id': '572978776233169_752560901608288', 'message': '원더걸스(부제 머리끄댕이) 막전막후\\n\\n#1\\n가까이 하기엔 너무 먼 당신??\\n\\n하지만......', 'link': 'https://www.facebook.com/95.1newsfactory/photos/a.672145356316510.1073741829.572978776233169/752560888274956/?type=3', 'type': 'photo', 'shares': {'count': 6}, 'created_time': '2018-01-17T23:00:36+0000'}, {'id': '572978776233169_752535724944139', 'message': \"1월 18일 목요일 방송내용\\n\\n◎ 1부\\n\\n[이 정도는 알아야 할 아침 뉴스]\\n-시사IN 김은지 기자\\n\\n◎ 2부\\n\\n[원더걸스]\\nMB '정치보복' 입장발표 등 정국 현안에 대한 여야 입장은?\\n- 박영선 의원 (더불어민주당)\\n- 나경원 의원 (자유한국당)\\n\\n◎ 3부\\n\\n[정치구단주]\\n개혁신당 창당 선언! 안철수와 결별하나?\\n- 박지원 전 대표 (국민의당)\\n\\n◎ 4부\\n\\n[그것마저 알려주마] \\n평창올림픽 남북 한반도기 공동입장에 대한 국민 여론은?\\n- 권순정 조사분석 실장 (리얼미터)\\n\\n[뉴스공장 고객센터 불만접수]\\n\\n[도시이야기]\\n주택보급률 102%... 맞는거야? 부족한거야?\\n- 김진애 도시건축가 (전 의원)\", 'type': 'status', 'shares': {'count': 2}, 'created_time': '2018-01-17T21:26:10+0000'}, {'id': '572978776233169_752252731639105', 'link': 'https://www.facebook.com/mylovetbs/videos/1552214524856013/', 'name': 'tbs 시민의 방송', 'type': 'video', 'created_time': '2018-01-17T09:08:06+0000'}, {'id': '572978776233169_752252668305778', 'link': 'https://www.facebook.com/mylovetbs/videos/1553261054751360/', 'name': 'tbs 시민의 방송', 'type': 'video', 'shares': {'count': 2}, 'created_time': '2018-01-17T09:07:46+0000'}, {'id': '572978776233169_752074654990246', 'message': '1월 17일 수요일 방송내용\\n밤사이 반가운 소식이 있었죠?\\n오늘 출근길도 뉴스공장과 함께 하세요!\\n\\n◎ 1부\\n\\n[이 정도는 알아야 할 아침 뉴스]\\n-시사IN 김은지 기자\\n\\n[잠깐만 인터뷰]\\n‘MB 측근’ 김백준·김진모 나란히 구속, 의미는?\\n- 이정렬 전 부장판사(법무법인 동안 사무장)\\n\\n◎ 2부\\n\\n[내부자둘]\\n개헌 반대에서 국면 전환한 한국당, 여야 속내는?\\n- 김성태 원내대표 (자유한국당)\\n- 안민석 의원 (더불어민주당)\\n\\n◎ 3부\\n\\n[코너 속의 코너]\\n\"UAE 의혹의 핵심, 임종석 비서실장 아닌 MB!\"\\n- 정의당 김종대 의원(국회 국방위 소속)\\n\\n[사회적 배려자]\\n판사 블랙리스트 및 한반도기 입장 등 현안에 대한 입장은?\\n-노회찬 원내대표 (정의당)\\n\\n◎ 4부\\n\\n[뉴스공장 고객센터 불만접수]\\n\\n[인터뷰 제 2 공장]\\n복잡한 \\'UAE 함수\\' 실마리는 연제욱?\\n- 하어영 기자 (한겨레21 이슈팀장)\\n- 김완 기자 (한겨레21)', 'type': 'status', 'shares': {'count': 9}, 'created_time': '2018-01-16T21:56:57+0000'}, {'id': '572978776233169_751744688356576', 'message': '2017 팟빵 TOP 20 에\\n김어준의 뉴스공장이 선정되었습니다!!\\n\\n생방 시간이 아닐 때에도 뉴스공장을 찾아 들어주시는\\n모든 청취자분들께 감사의 인사 올립니다😭😭\\n\\n앞으로도\\n뉴스공장과 함께해주세요🤗🤗\\n\\n#2017팟빵탑20 #청취수8억회 #8억안부럽다', 'link': 'https://www.facebook.com/95.1newsfactory/photos/a.672145356316510.1073741829.572978776233169/751740631690315/?type=3', 'name': \"Photos from 김어준의 뉴스공장's post\", 'type': 'photo', 'shares': {'count': 12}, 'created_time': '2018-01-16T02:47:09+0000'}, {'id': '572978776233169_751739691690409', 'link': 'https://www.facebook.com/mylovetbs/videos/1552214524856013/', 'name': 'tbs 시민의 방송', 'type': 'video', 'shares': {'count': 2}, 'created_time': '2018-01-16T02:24:29+0000'}, {'id': '572978776233169_751739668357078', 'link': 'https://www.facebook.com/mylovetbs/videos/1552161658194633/', 'name': 'tbs 시민의 방송', 'type': 'video', 'shares': {'count': 4}, 'created_time': '2018-01-16T02:24:21+0000'}, {'id': '572978776233169_751692395028472', 'message': '오늘 3부 김동연 부총리님을 모시고 경제현안에 대해 짚어봅니다☺️☺️\\n\\n많은 청취 부탁드립니다^^\\n\\n#미소가아름다운김동연부총리님 #실물이더멋진장관님 #공장장뒷전된스튜디오', 'link': 'https://www.facebook.com/95.1newsfactory/photos/a.672145356316510.1073741829.572978776233169/751691975028514/?type=3', 'name': \"Photos from 김어준의 뉴스공장's post\", 'type': 'photo', 'shares': {'count': 32}, 'created_time': '2018-01-15T23:09:02+0000'}, {'id': '572978776233169_751666865031025', 'message': '1월 16일 화요일 방송내용\\n\\n오늘 3부에는 \\n김동연 부총리를 직접 스튜디오에 모시고\\n주요 경제현안에 대해 짚어봅니다!\\n\\n오늘 출근길도 뉴스공장과 함께하세요!!\\n\\n◎ 1부\\n\\n \\n\\n[이 정도는 알아야 할 아침 뉴스]\\n-시사IN 김은지 기자\\n\\n[잠깐만 인터뷰]\\n특활비 수수 혐의 \\'MB 집사\\' 김백준 오늘 영장심사…구속 가능성은?\\n- 이정렬 전 부장판사(법무법인 동안 사무장)\\n\\n◎ 2부\\n\\n[하태핫태]\\n남경필 \"자유한국당 복당은 바른정당 통한 보수혁신 실패 탓?\" 입장은?\\n- 하태경 최고위원 (바른정당)\\n\\n◎ 3부\\n\\n[인터뷰 제 1 공장]\\n문재인 정부 경제사령탑, 다스 주식 등 경제현안에 답한다!\\n- 김동연 부총리 (기획재정부 장관)\\n\\n◎ 4부\\n\\n[뉴스공장 고객센터 불만접수]\\n\\n[인터뷰 제 2 공장]\\n\"열심히 일한 당신, 상품권으로 받아라?\"\\n- 김완 기자 (한겨레21)', 'type': 'status', 'shares': {'count': 7}, 'created_time': '2018-01-15T21:32:01+0000'}, {'id': '572978776233169_751262721738106', 'message': '1월 15일 월요일 방송내용\\n\\n출근길 마스크 꼭 챙기세요^^!\\n오늘도 공장문 활짝 엽니다!!\\n\\n◎ 1부\\n\\n[이 정도는 알아야 할 아침 뉴스]\\n-시사IN 김은지 기자\\n\\n \\n\\n[잠깐만 인터뷰]\\n다스, 현재 수사 상황은?\\n- 주진우 기자 (시사인)\\n\\n◎ 2부\\n\\n[인터뷰 제 1 공장]\\n\"UAE 군사비밀양해각서? MB도 알았다!\"\\n- 정의당 김종대 의원 (국회 국방위 소속)\\n\\n◎ 3부\\n\\n[인터뷰 제 2 공장]\\n \\'가상화폐 열풍\\' 투기냐 투자냐… 가상화폐 규제 강화, 찬반 입장은?\\n- 김정식 교수 (연세대 경제학과)\\n- 김진화 공동대표(한국블록체인협회 준비위원회)\\n\\n◎ 4부\\n\\n[잠깐만 인터뷰]\\n정호영 특검, 검찰 책임 공방?… \"둘 다 수사 의지 없었다!\"\\n- 박범계 최고위원 (더불어민주당 적폐청산위원장)\\n\\n[뉴스공장 고객센터 불만접수]\\n\\n[글로보는글로벌]\\nMB 정부 시절 원전수주, 비밀 군사협정 맺은 UAE는 어떤 나라? \\n- 임상훈 인문결연구소 소장(국제문제평론가)', 'type': 'status', 'shares': {'count': 6}, 'created_time': '2018-01-14T21:25:39+0000'}, {'id': '572978776233169_749993291865049', 'link': 'https://www.facebook.com/mylovetbs/videos/1548634548547344/', 'name': 'tbs 시민의 방송', 'type': 'video', 'shares': {'count': 2}, 'created_time': '2018-01-11T21:46:00+0000'}, {'id': '572978776233169_749989471865431', 'message': '1월 12일 금요일 방송내용\\n\\n오늘도 뉴스공장과\\n출근길 함께 하세요^^!\\n\\n◎ 1부\\n\\n[이 정도는 알아야 할 아침 뉴스]\\n-시사IN 김은지 기자\\n\\n◎ 2부\\n\\n[인터뷰 제 1 공장]\\n“이시형 다스 부당 승계작업, 공정위가 막아야!”\\n- 전해철 의원(더불어민주당)\\n\\n[인터뷰 제 2 공장]\\n\"박종철 열사 31주기 맞아 남영동 대공분실을 시민의 품으로!\"\\n- 김학규 사무국장(박종철기념사업회)\\n\\n◎ 3부\\n\\n[쇼미더머니]\\nMB와 현대건설, 그리고 UAE 원전 의혹\\n- 안원구 전 대구지방국세청장\\n\\n◎ 4부\\n\\n[뉴스공장 고객센터 불만접수]\\n\\n \\n[까칠한 미식가]\\n감자탕의 신화\\n- 황교익 맛 칼럼니스트', 'type': 'status', 'shares': {'count': 5}, 'created_time': '2018-01-11T21:33:17+0000'}, {'id': '572978776233169_749592281905150', 'message': '‘박영선에게 김어준이란?’\\n\\n뉴스공장표 도발질문에 당황해\\n정청래 의원에게 급히 SOS 친 박영선 의원\\n\\n정청래 의원의 답은,,,,,?\\n\\n#공장장디스로하나된대기실 #공장장디스가제일재밌는두의원 #제작진에게딱걸린컨닝현장', 'link': 'https://www.facebook.com/95.1newsfactory/videos/749592281905150/', 'type': 'video', 'shares': {'count': 12}, 'created_time': '2018-01-11T00:14:44+0000'}, {'id': '572978776233169_749569701907408', 'message': '드디어 이분들이 만났습니다\\n\\n내부자둘의 뒤를 이을 야심찬 코너~~!\\n\\n원더걸스! \\n\\n많이 청취해주세요😆😆😆', 'link': 'https://www.facebook.com/95.1newsfactory/photos/a.672145356316510.1073741829.572978776233169/749569611907417/?type=3', 'name': \"Photos from 김어준의 뉴스공장's post\", 'type': 'photo', 'shares': {'count': 86}, 'created_time': '2018-01-10T22:35:37+0000'}, {'id': '572978776233169_749559148575130', 'link': 'https://www.facebook.com/mylovetbs/videos/1547783931965739/', 'name': 'tbs 시민의 방송', 'type': 'video', 'created_time': '2018-01-10T21:45:41+0000'}, {'id': '572978776233169_749559078575137', 'link': 'https://www.facebook.com/mylovetbs/videos/1547755065301959/', 'name': 'tbs 시민의 방송', 'type': 'video', 'shares': {'count': 4}, 'created_time': '2018-01-10T21:45:29+0000'}, {'id': '572978776233169_749555898575455', 'message': '1월 11일 목요일 방송내용\\n\\n뉴스공장이 새해를 맞아 \\n야심차게 준비한 코너!\\n<원더걸스>!\\n뉴스공장 2부에서 만나보세요^^!\\n\\n◎ 1부\\n\\n[이 정도는 알아야 할 아침 뉴스]\\n-시사IN 김은지 기자\\n\\n[잠깐만 인터뷰]\\n文 대통령 신년기자회견, 나는 이렇게 봤다!\\n- 정청래 전 의원\\n\\n◎ 2부\\n\\n[원더걸스(가제)]\\n대통령 신년 기자회견 등 정국 현안에 대한 입장은?\\n- 박영선 의원 (더불어민주당)\\n- 나경원 의원 (자유한국당)\\n\\n◎ 3부\\n\\n[(가제)]\\n“국민-바른 합당 동력 급속히 떨어지고 있다!”\\n- 박지원 전 대표 (국민의당)\\n\\n◎ 4부\\n\\n[그것마저 알려주마] \\n한일 위안부 합의에 대한 정부 방침! 여론은? \\n- 권순정 조사분석 실장 (리얼미터)\\n\\n[뉴스공장 고객센터 불만접수]\\n\\n[도시이야기]\\n대도시권 그린벨트의 미래\\n- 김진애 도시건축가 (전 의원)', 'type': 'status', 'shares': {'count': 4}, 'created_time': '2018-01-10T21:31:03+0000'}]\n",
      "2  >>  paging {'cursors': {'before': 'Q2c4U1pXNTBYM0YxWlhKNVgzTjBiM0o1WDJsa0R5UTFOekk1TnpnM056WXlNek14TmprNkxUWTFNakl4TWpFMk56SXpNVGN5TkRJNE16Y1BER0ZA3YVY5emRHOXllVjlwWkE4ZAk5UY3lPVGM0TnpjMk1qTXpNVFk1WHpjMU1qVTNOVEk1T0RJM016VXhOUThFZAEdsdFpRWmFYK0pxQVE9PQZDZD', 'after': 'Q2c4U1pXNTBYM0YxWlhKNVgzTjBiM0o1WDJsa0R5TTFOekk1TnpnM056WXlNek14TmprNk5qY3lPVE0yTWpRek5EQTBOVEV5TlRFNU53OE1ZAWEJwWDNOMGIzSjVYMmxrRHg4MU56STVOemczTnpZAeU16TXhOamxmTnpRNU5UVTFPRGs0TlRjMU5EVTFEd1IwYVcxbEJscFdoaGNC'}}\n"
     ]
    }
   ],
   "source": [
    "i = 1\n",
    "for k, v in data.items():\n",
    "    print (i, ' >> ', k, v)\n",
    "    i += 1"
   ]
  },
  {
   "cell_type": "code",
   "execution_count": 188,
   "metadata": {},
   "outputs": [
    {
     "name": "stdout",
     "output_type": "stream",
     "text": [
      " --------------- \n",
      ">>>  id  :   572978776233169_752575298273515\n",
      ">>>  link  :   https://www.facebook.com/mylovetbs/videos/1554023381341794/\n",
      ">>>  name  :   tbs 시민의 방송\n",
      ">>>  type  :   video\n",
      ">>>  shares  :   {'count': 2}\n",
      ">>>  created_time  :   2018-01-17T23:55:22+0000\n",
      " --------------- \n",
      ">>>  id  :   572978776233169_752575231606855\n",
      ">>>  link  :   https://www.facebook.com/mylovetbs/videos/1554101268000672/\n",
      ">>>  name  :   tbs 시민의 방송\n",
      ">>>  type  :   video\n",
      ">>>  shares  :   {'count': 3}\n",
      ">>>  created_time  :   2018-01-17T23:55:03+0000\n",
      " --------------- \n",
      ">>>  id  :   572978776233169_752575148273530\n",
      ">>>  link  :   https://www.facebook.com/mylovetbs/videos/1554029581341174/\n",
      ">>>  name  :   tbs 시민의 방송\n",
      ">>>  type  :   video\n",
      ">>>  created_time  :   2018-01-17T23:54:47+0000\n",
      " --------------- \n",
      ">>>  id  :   572978776233169_752561338274911\n",
      ">>>  message  :   원더걸스(부제 머리끄댕이) 막전막후\n",
      "\n",
      "#2\n",
      "\n",
      "방송 후 대방출되는 화기애애함\n",
      "\n",
      "#시사계원더걸스 #문자대폭발 #이번주는라디오동시에3개튼거같아요 #대표님카메라가리지마세요\n",
      ">>>  link  :   https://www.facebook.com/95.1newsfactory/videos/752561338274911/\n",
      ">>>  type  :   video\n",
      ">>>  shares  :   {'count': 10}\n",
      ">>>  created_time  :   2018-01-17T23:06:37+0000\n",
      " --------------- \n",
      ">>>  id  :   572978776233169_752560901608288\n",
      ">>>  message  :   원더걸스(부제 머리끄댕이) 막전막후\n",
      "\n",
      "#1\n",
      "가까이 하기엔 너무 먼 당신??\n",
      "\n",
      "하지만......\n",
      ">>>  link  :   https://www.facebook.com/95.1newsfactory/photos/a.672145356316510.1073741829.572978776233169/752560888274956/?type=3\n",
      ">>>  type  :   photo\n",
      ">>>  shares  :   {'count': 6}\n",
      ">>>  created_time  :   2018-01-17T23:00:36+0000\n",
      " --------------- \n",
      ">>>  id  :   572978776233169_752535724944139\n",
      ">>>  message  :   1월 18일 목요일 방송내용\n",
      "\n",
      "◎ 1부\n",
      "\n",
      "[이 정도는 알아야 할 아침 뉴스]\n",
      "-시사IN 김은지 기자\n",
      "\n",
      "◎ 2부\n",
      "\n",
      "[원더걸스]\n",
      "MB '정치보복' 입장발표 등 정국 현안에 대한 여야 입장은?\n",
      "- 박영선 의원 (더불어민주당)\n",
      "- 나경원 의원 (자유한국당)\n",
      "\n",
      "◎ 3부\n",
      "\n",
      "[정치구단주]\n",
      "개혁신당 창당 선언! 안철수와 결별하나?\n",
      "- 박지원 전 대표 (국민의당)\n",
      "\n",
      "◎ 4부\n",
      "\n",
      "[그것마저 알려주마] \n",
      "평창올림픽 남북 한반도기 공동입장에 대한 국민 여론은?\n",
      "- 권순정 조사분석 실장 (리얼미터)\n",
      "\n",
      "[뉴스공장 고객센터 불만접수]\n",
      "\n",
      "[도시이야기]\n",
      "주택보급률 102%... 맞는거야? 부족한거야?\n",
      "- 김진애 도시건축가 (전 의원)\n",
      ">>>  type  :   status\n",
      ">>>  shares  :   {'count': 2}\n",
      ">>>  created_time  :   2018-01-17T21:26:10+0000\n",
      " --------------- \n",
      ">>>  id  :   572978776233169_752252731639105\n",
      ">>>  link  :   https://www.facebook.com/mylovetbs/videos/1552214524856013/\n",
      ">>>  name  :   tbs 시민의 방송\n",
      ">>>  type  :   video\n",
      ">>>  created_time  :   2018-01-17T09:08:06+0000\n",
      " --------------- \n",
      ">>>  id  :   572978776233169_752252668305778\n",
      ">>>  link  :   https://www.facebook.com/mylovetbs/videos/1553261054751360/\n",
      ">>>  name  :   tbs 시민의 방송\n",
      ">>>  type  :   video\n",
      ">>>  shares  :   {'count': 2}\n",
      ">>>  created_time  :   2018-01-17T09:07:46+0000\n",
      " --------------- \n",
      ">>>  id  :   572978776233169_752074654990246\n",
      ">>>  message  :   1월 17일 수요일 방송내용\n",
      "밤사이 반가운 소식이 있었죠?\n",
      "오늘 출근길도 뉴스공장과 함께 하세요!\n",
      "\n",
      "◎ 1부\n",
      "\n",
      "[이 정도는 알아야 할 아침 뉴스]\n",
      "-시사IN 김은지 기자\n",
      "\n",
      "[잠깐만 인터뷰]\n",
      "‘MB 측근’ 김백준·김진모 나란히 구속, 의미는?\n",
      "- 이정렬 전 부장판사(법무법인 동안 사무장)\n",
      "\n",
      "◎ 2부\n",
      "\n",
      "[내부자둘]\n",
      "개헌 반대에서 국면 전환한 한국당, 여야 속내는?\n",
      "- 김성태 원내대표 (자유한국당)\n",
      "- 안민석 의원 (더불어민주당)\n",
      "\n",
      "◎ 3부\n",
      "\n",
      "[코너 속의 코너]\n",
      "\"UAE 의혹의 핵심, 임종석 비서실장 아닌 MB!\"\n",
      "- 정의당 김종대 의원(국회 국방위 소속)\n",
      "\n",
      "[사회적 배려자]\n",
      "판사 블랙리스트 및 한반도기 입장 등 현안에 대한 입장은?\n",
      "-노회찬 원내대표 (정의당)\n",
      "\n",
      "◎ 4부\n",
      "\n",
      "[뉴스공장 고객센터 불만접수]\n",
      "\n",
      "[인터뷰 제 2 공장]\n",
      "복잡한 'UAE 함수' 실마리는 연제욱?\n",
      "- 하어영 기자 (한겨레21 이슈팀장)\n",
      "- 김완 기자 (한겨레21)\n",
      ">>>  type  :   status\n",
      ">>>  shares  :   {'count': 9}\n",
      ">>>  created_time  :   2018-01-16T21:56:57+0000\n",
      " --------------- \n",
      ">>>  id  :   572978776233169_751744688356576\n",
      ">>>  message  :   2017 팟빵 TOP 20 에\n",
      "김어준의 뉴스공장이 선정되었습니다!!\n",
      "\n",
      "생방 시간이 아닐 때에도 뉴스공장을 찾아 들어주시는\n",
      "모든 청취자분들께 감사의 인사 올립니다😭😭\n",
      "\n",
      "앞으로도\n",
      "뉴스공장과 함께해주세요🤗🤗\n",
      "\n",
      "#2017팟빵탑20 #청취수8억회 #8억안부럽다\n",
      ">>>  link  :   https://www.facebook.com/95.1newsfactory/photos/a.672145356316510.1073741829.572978776233169/751740631690315/?type=3\n",
      ">>>  name  :   Photos from 김어준의 뉴스공장's post\n",
      ">>>  type  :   photo\n",
      ">>>  shares  :   {'count': 12}\n",
      ">>>  created_time  :   2018-01-16T02:47:09+0000\n",
      " --------------- \n",
      ">>>  id  :   572978776233169_751739691690409\n",
      ">>>  link  :   https://www.facebook.com/mylovetbs/videos/1552214524856013/\n",
      ">>>  name  :   tbs 시민의 방송\n",
      ">>>  type  :   video\n",
      ">>>  shares  :   {'count': 2}\n",
      ">>>  created_time  :   2018-01-16T02:24:29+0000\n",
      " --------------- \n",
      ">>>  id  :   572978776233169_751739668357078\n",
      ">>>  link  :   https://www.facebook.com/mylovetbs/videos/1552161658194633/\n",
      ">>>  name  :   tbs 시민의 방송\n",
      ">>>  type  :   video\n",
      ">>>  shares  :   {'count': 4}\n",
      ">>>  created_time  :   2018-01-16T02:24:21+0000\n",
      " --------------- \n",
      ">>>  id  :   572978776233169_751692395028472\n",
      ">>>  message  :   오늘 3부 김동연 부총리님을 모시고 경제현안에 대해 짚어봅니다☺️☺️\n",
      "\n",
      "많은 청취 부탁드립니다^^\n",
      "\n",
      "#미소가아름다운김동연부총리님 #실물이더멋진장관님 #공장장뒷전된스튜디오\n",
      ">>>  link  :   https://www.facebook.com/95.1newsfactory/photos/a.672145356316510.1073741829.572978776233169/751691975028514/?type=3\n",
      ">>>  name  :   Photos from 김어준의 뉴스공장's post\n",
      ">>>  type  :   photo\n",
      ">>>  shares  :   {'count': 32}\n",
      ">>>  created_time  :   2018-01-15T23:09:02+0000\n",
      " --------------- \n",
      ">>>  id  :   572978776233169_751666865031025\n",
      ">>>  message  :   1월 16일 화요일 방송내용\n",
      "\n",
      "오늘 3부에는 \n",
      "김동연 부총리를 직접 스튜디오에 모시고\n",
      "주요 경제현안에 대해 짚어봅니다!\n",
      "\n",
      "오늘 출근길도 뉴스공장과 함께하세요!!\n",
      "\n",
      "◎ 1부\n",
      "\n",
      " \n",
      "\n",
      "[이 정도는 알아야 할 아침 뉴스]\n",
      "-시사IN 김은지 기자\n",
      "\n",
      "[잠깐만 인터뷰]\n",
      "특활비 수수 혐의 'MB 집사' 김백준 오늘 영장심사…구속 가능성은?\n",
      "- 이정렬 전 부장판사(법무법인 동안 사무장)\n",
      "\n",
      "◎ 2부\n",
      "\n",
      "[하태핫태]\n",
      "남경필 \"자유한국당 복당은 바른정당 통한 보수혁신 실패 탓?\" 입장은?\n",
      "- 하태경 최고위원 (바른정당)\n",
      "\n",
      "◎ 3부\n",
      "\n",
      "[인터뷰 제 1 공장]\n",
      "문재인 정부 경제사령탑, 다스 주식 등 경제현안에 답한다!\n",
      "- 김동연 부총리 (기획재정부 장관)\n",
      "\n",
      "◎ 4부\n",
      "\n",
      "[뉴스공장 고객센터 불만접수]\n",
      "\n",
      "[인터뷰 제 2 공장]\n",
      "\"열심히 일한 당신, 상품권으로 받아라?\"\n",
      "- 김완 기자 (한겨레21)\n",
      ">>>  type  :   status\n",
      ">>>  shares  :   {'count': 7}\n",
      ">>>  created_time  :   2018-01-15T21:32:01+0000\n",
      " --------------- \n",
      ">>>  id  :   572978776233169_751262721738106\n",
      ">>>  message  :   1월 15일 월요일 방송내용\n",
      "\n",
      "출근길 마스크 꼭 챙기세요^^!\n",
      "오늘도 공장문 활짝 엽니다!!\n",
      "\n",
      "◎ 1부\n",
      "\n",
      "[이 정도는 알아야 할 아침 뉴스]\n",
      "-시사IN 김은지 기자\n",
      "\n",
      " \n",
      "\n",
      "[잠깐만 인터뷰]\n",
      "다스, 현재 수사 상황은?\n",
      "- 주진우 기자 (시사인)\n",
      "\n",
      "◎ 2부\n",
      "\n",
      "[인터뷰 제 1 공장]\n",
      "\"UAE 군사비밀양해각서? MB도 알았다!\"\n",
      "- 정의당 김종대 의원 (국회 국방위 소속)\n",
      "\n",
      "◎ 3부\n",
      "\n",
      "[인터뷰 제 2 공장]\n",
      " '가상화폐 열풍' 투기냐 투자냐… 가상화폐 규제 강화, 찬반 입장은?\n",
      "- 김정식 교수 (연세대 경제학과)\n",
      "- 김진화 공동대표(한국블록체인협회 준비위원회)\n",
      "\n",
      "◎ 4부\n",
      "\n",
      "[잠깐만 인터뷰]\n",
      "정호영 특검, 검찰 책임 공방?… \"둘 다 수사 의지 없었다!\"\n",
      "- 박범계 최고위원 (더불어민주당 적폐청산위원장)\n",
      "\n",
      "[뉴스공장 고객센터 불만접수]\n",
      "\n",
      "[글로보는글로벌]\n",
      "MB 정부 시절 원전수주, 비밀 군사협정 맺은 UAE는 어떤 나라? \n",
      "- 임상훈 인문결연구소 소장(국제문제평론가)\n",
      ">>>  type  :   status\n",
      ">>>  shares  :   {'count': 6}\n",
      ">>>  created_time  :   2018-01-14T21:25:39+0000\n",
      " --------------- \n",
      ">>>  id  :   572978776233169_749993291865049\n",
      ">>>  link  :   https://www.facebook.com/mylovetbs/videos/1548634548547344/\n",
      ">>>  name  :   tbs 시민의 방송\n",
      ">>>  type  :   video\n",
      ">>>  shares  :   {'count': 2}\n",
      ">>>  created_time  :   2018-01-11T21:46:00+0000\n",
      " --------------- \n",
      ">>>  id  :   572978776233169_749989471865431\n",
      ">>>  message  :   1월 12일 금요일 방송내용\n",
      "\n",
      "오늘도 뉴스공장과\n",
      "출근길 함께 하세요^^!\n",
      "\n",
      "◎ 1부\n",
      "\n",
      "[이 정도는 알아야 할 아침 뉴스]\n",
      "-시사IN 김은지 기자\n",
      "\n",
      "◎ 2부\n",
      "\n",
      "[인터뷰 제 1 공장]\n",
      "“이시형 다스 부당 승계작업, 공정위가 막아야!”\n",
      "- 전해철 의원(더불어민주당)\n",
      "\n",
      "[인터뷰 제 2 공장]\n",
      "\"박종철 열사 31주기 맞아 남영동 대공분실을 시민의 품으로!\"\n",
      "- 김학규 사무국장(박종철기념사업회)\n",
      "\n",
      "◎ 3부\n",
      "\n",
      "[쇼미더머니]\n",
      "MB와 현대건설, 그리고 UAE 원전 의혹\n",
      "- 안원구 전 대구지방국세청장\n",
      "\n",
      "◎ 4부\n",
      "\n",
      "[뉴스공장 고객센터 불만접수]\n",
      "\n",
      " \n",
      "[까칠한 미식가]\n",
      "감자탕의 신화\n",
      "- 황교익 맛 칼럼니스트\n",
      ">>>  type  :   status\n",
      ">>>  shares  :   {'count': 5}\n",
      ">>>  created_time  :   2018-01-11T21:33:17+0000\n",
      " --------------- \n",
      ">>>  id  :   572978776233169_749592281905150\n",
      ">>>  message  :   ‘박영선에게 김어준이란?’\n",
      "\n",
      "뉴스공장표 도발질문에 당황해\n",
      "정청래 의원에게 급히 SOS 친 박영선 의원\n",
      "\n",
      "정청래 의원의 답은,,,,,?\n",
      "\n",
      "#공장장디스로하나된대기실 #공장장디스가제일재밌는두의원 #제작진에게딱걸린컨닝현장\n",
      ">>>  link  :   https://www.facebook.com/95.1newsfactory/videos/749592281905150/\n",
      ">>>  type  :   video\n",
      ">>>  shares  :   {'count': 12}\n",
      ">>>  created_time  :   2018-01-11T00:14:44+0000\n",
      " --------------- \n",
      ">>>  id  :   572978776233169_749569701907408\n",
      ">>>  message  :   드디어 이분들이 만났습니다\n",
      "\n",
      "내부자둘의 뒤를 이을 야심찬 코너~~!\n",
      "\n",
      "원더걸스! \n",
      "\n",
      "많이 청취해주세요😆😆😆\n",
      ">>>  link  :   https://www.facebook.com/95.1newsfactory/photos/a.672145356316510.1073741829.572978776233169/749569611907417/?type=3\n",
      ">>>  name  :   Photos from 김어준의 뉴스공장's post\n",
      ">>>  type  :   photo\n",
      ">>>  shares  :   {'count': 86}\n",
      ">>>  created_time  :   2018-01-10T22:35:37+0000\n",
      " --------------- \n",
      ">>>  id  :   572978776233169_749559148575130\n",
      ">>>  link  :   https://www.facebook.com/mylovetbs/videos/1547783931965739/\n",
      ">>>  name  :   tbs 시민의 방송\n",
      ">>>  type  :   video\n",
      ">>>  created_time  :   2018-01-10T21:45:41+0000\n",
      " --------------- \n",
      ">>>  id  :   572978776233169_749559078575137\n",
      ">>>  link  :   https://www.facebook.com/mylovetbs/videos/1547755065301959/\n",
      ">>>  name  :   tbs 시민의 방송\n",
      ">>>  type  :   video\n",
      ">>>  shares  :   {'count': 4}\n",
      ">>>  created_time  :   2018-01-10T21:45:29+0000\n",
      " --------------- \n",
      ">>>  id  :   572978776233169_749555898575455\n",
      ">>>  message  :   1월 11일 목요일 방송내용\n",
      "\n",
      "뉴스공장이 새해를 맞아 \n",
      "야심차게 준비한 코너!\n",
      "<원더걸스>!\n",
      "뉴스공장 2부에서 만나보세요^^!\n",
      "\n",
      "◎ 1부\n",
      "\n",
      "[이 정도는 알아야 할 아침 뉴스]\n",
      "-시사IN 김은지 기자\n",
      "\n",
      "[잠깐만 인터뷰]\n",
      "文 대통령 신년기자회견, 나는 이렇게 봤다!\n",
      "- 정청래 전 의원\n",
      "\n",
      "◎ 2부\n",
      "\n",
      "[원더걸스(가제)]\n",
      "대통령 신년 기자회견 등 정국 현안에 대한 입장은?\n",
      "- 박영선 의원 (더불어민주당)\n",
      "- 나경원 의원 (자유한국당)\n",
      "\n",
      "◎ 3부\n",
      "\n",
      "[(가제)]\n",
      "“국민-바른 합당 동력 급속히 떨어지고 있다!”\n",
      "- 박지원 전 대표 (국민의당)\n",
      "\n",
      "◎ 4부\n",
      "\n",
      "[그것마저 알려주마] \n",
      "한일 위안부 합의에 대한 정부 방침! 여론은? \n",
      "- 권순정 조사분석 실장 (리얼미터)\n",
      "\n",
      "[뉴스공장 고객센터 불만접수]\n",
      "\n",
      "[도시이야기]\n",
      "대도시권 그린벨트의 미래\n",
      "- 김진애 도시건축가 (전 의원)\n",
      ">>>  type  :   status\n",
      ">>>  shares  :   {'count': 4}\n",
      ">>>  created_time  :   2018-01-10T21:31:03+0000\n"
     ]
    }
   ],
   "source": [
    "for data_node in data['data']:\n",
    "    print (' --------------- ')\n",
    "    for k, v in data_node.items():\n",
    "        print ('>>> ', k, ' :  ', v)"
   ]
  },
  {
   "cell_type": "code",
   "execution_count": null,
   "metadata": {},
   "outputs": [],
   "source": []
  },
  {
   "cell_type": "code",
   "execution_count": 176,
   "metadata": {},
   "outputs": [
    {
     "data": {
      "text/plain": [
       "'<!doctype html><html itemscope=\"\" itemtype=\"http://schema.org/WebPage\" lang=\"ko\"><head><meta content=\"text/html; charset=UTF-8\" http-equiv=\"Content-Type\"><meta content=\"/images/branding/googleg/1x/googleg_standard_color_128dp.png\" itemprop=\"image\"><title>Google</title><script>(function(){window.google={kEI:\\'TrpgWs68KIn38QWZ15iwBw\\',kEXPI:\\'18167,1352553,1354276,1354690,1354916,1355218,1355675,1355761,1355770,1355792,1356341,1356722,1356779,1356949,1357219,3700255,3700439,3700521,4003510,4029815,4031109,4043492,4045841,4048347,4081038,4081165,4097147,4097195,4097922,4097929,4098721,4098728,4098752,4102237,4103210,4103475,4103845,4105786,4109316,4109489,4112771,4116724,4116731,4117980,4118798,4119797,4119806,4120660,4122511,4123829,4123837,4124091,4124850,4125837,4126203,4126754,4127418,4127473,4127744,4127863,4128378,4128567,4128586,4129001,4129520,4129633,4130783,4131247,4131834,4132126,4134403,4135025,4135045,4135934,4136073,4136379,4137597,4137646,4138754,4139394,4139719,4139722,4139727,4139730,4140276,4140322,4140732,4141160,4141174,4141338,4142071,4142328,4142361,4142420,4142503,4142837,4143032,4143278,4143564,4143676,4143902,4144442,4145088,4145186,4145461,4145485,4145772,4145836,4146146,4146194,4146319,4146874,4147097,4147189,4147488,4147868,4147951,4148267,4148304,4148522,4148640,4148722,4149139,4149341,4149371,4149445,4149685,4149799,4149887,4149939,4149960,4150005,6512307,10200083,10202524,10202562,15807764,16200027,16200132,19000288,19000423,19000427,19001999,19002287,19002288,19002366,19002548,19002880,19003321,19003323,19003325,19003326,19003328,19003329,19003330,19003407,19003408,19003409,19004309,19004516,19004517,19004518,19004519,19004520,19004521,19004668,19004670,19004729\\',authuser:0,kscs:\\'c9c918f0_TrpgWs68KIn38QWZ15iwBw\\',u:\\'c9c918f0\\',kGL:\\'KR\\'};google.kHL=\\'ko\\';})();(function(){google.lc=[];google.li=0;google.getEI=function(a){for(var b;a&&(!a.getAttribute||!(b=a.getAttribute(\"eid\")));)a=a.parentNode;return b||google.kEI};google.getLEI=function(a){for(var b=null;a&&(!a.getAttribute||!(b=a.getAttribute(\"leid\")));)a=a.parentNode;return b};google.https=function(){return\"https:\"==window.location.protocol};google.ml=function(){return null};google.wl=function(a,b){try{google.ml(Error(a),!1,b)}catch(d){}};google.time=function(){return(new Date).getTime()};google.log=function(a,b,d,c,g){if(a=google.logUrl(a,b,d,c,g)){b=new Image;var e=google.lc,f=google.li;e[f]=b;b.onerror=b.onload=b.onabort=function(){delete e[f]};google.vel&&google.vel.lu&&google.vel.lu(a);b.src=a;google.li=f+1}};google.logUrl=function(a,b,d,c,g){var e=\"\",f=google.ls||\"\";d||-1!=b.search(\"&ei=\")||(e=\"&ei=\"+google.getEI(c),-1==b.search(\"&lei=\")&&(c=google.getLEI(c))&&(e+=\"&lei=\"+c));c=\"\";!d&&google.cshid&&-1==b.search(\"&cshid=\")&&(c=\"&cshid=\"+google.cshid);a=d||\"/\"+(g||\"gen_204\")+\"?atyp=i&ct=\"+a+\"&cad=\"+b+e+f+\"&zx=\"+google.time()+c;/^http:/i.test(a)&&google.https()&&(google.ml(Error(\"a\"),!1,{src:a,glmm:1}),a=\"\");return a};}).call(this);(function(){google.y={};google.x=function(a,b){if(a)var c=a.id;else{do c=Math.random();while(google.y[c])}google.y[c]=[a,b];return!1};google.lm=[];google.plm=function(a){google.lm.push.apply(google.lm,a)};google.lq=[];google.load=function(a,b,c){google.lq.push([[a],b,c])};google.loadAll=function(a,b){google.lq.push([a,b])};}).call(this);google.f={};var a=window.location,b=a.href.indexOf(\"#\");if(0<=b){var c=a.href.substring(b+1);/(^|&)q=/.test(c)&&-1==c.indexOf(\"#\")&&a.replace(\"/search?\"+c.replace(/(^|&)fp=[^&]*/g,\"\")+\"&cad=h\")};</script><style>#gbar,#guser{font-size:13px;padding-top:1px !important;}#gbar{height:22px}#guser{padding-bottom:7px !important;text-align:right}.gbh,.gbd{border-top:1px solid #c9d7f1;font-size:1px}.gbh{height:0;position:absolute;top:24px;width:100%}@media all{.gb1{height:22px;margin-right:.5em;vertical-align:top}#gbar{float:left}}a.gb1,a.gb4{text-decoration:underline !important}a.gb1,a.gb4{color:#00c !important}.gbi .gb4{color:#dd8e27 !important}.gbf .gb4{color:#900 !important}\\n</style><style>body,td,a,p,.h{font-family:굴림,돋움,arial,sans-serif}.ko{font-size:9pt}body{margin:0;overflow-y:scroll}#gog{padding:3px 8px 0}td{line-height:.8em}.gac_m td{line-height:17px}form{margin-bottom:20px}.h{color:#36c}.q{color:#00c}.ts td{padding:0}.ts{border-collapse:collapse}em{font-weight:bold;font-style:normal}.lst{height:25px;width:496px}.gsfi,.lst{font:18px arial,sans-serif}.gsfs{font:17px arial,sans-serif}.ds{display:inline-box;display:inline-block;margin:3px 0 4px;margin-left:4px}input{font-family:inherit}a.gb1,a.gb2,a.gb3,a.gb4{color:#11c !important}body{background:#fff;color:black}a{color:#11c;text-decoration:none}a:hover,a:active{text-decoration:underline}.fl a{color:#36c}a:visited{color:#551a8b}a.gb1,a.gb4{text-decoration:underline}a.gb3:hover{text-decoration:none}#ghead a.gb2:hover{color:#fff !important}.sblc{padding-top:5px}.sblc a{display:block;margin:2px 0;margin-left:13px;font-size:11px}.lsbb{background:#eee;border:solid 1px;border-color:#ccc #999 #999 #ccc;height:30px}.lsbb{display:block}.ftl,#fll a{display:inline-block;margin:0 12px}.lsb{background:url(/images/nav_logo229.png) 0 -261px repeat-x;border:none;color:#000;cursor:pointer;height:30px;margin:0;outline:0;font:15px arial,sans-serif;vertical-align:top}.lsb:active{background:#ccc}.lst:focus{outline:none}.tiah{width:458px}</style><script></script><link href=\"/images/branding/product/ico/googleg_lodp.ico\" rel=\"shortcut icon\"></head><body bgcolor=\"#fff\"><script>(function(){var src=\\'/images/nav_logo229.png\\';var iesg=false;document.body.onload = function(){window.n && window.n();if (document.images){new Image().src=src;}\\nif (!iesg){document.f&&document.f.q.focus();document.gbqf&&document.gbqf.q.focus();}\\n}\\n})();</script><div id=\"mngb\"> <div id=gbar><nobr><b class=gb1>검색</b> <a class=gb1 href=\"http://www.google.co.kr/imghp?hl=ko&tab=wi\">이미지</a> <a class=gb1 href=\"http://maps.google.co.kr/maps?hl=ko&tab=wl\">지도</a> <a class=gb1 href=\"https://play.google.com/?hl=ko&tab=w8\">Play</a> <a class=gb1 href=\"http://www.youtube.com/?gl=KR&tab=w1\">YouTube</a> <a class=gb1 href=\"http://news.google.co.kr/nwshp?hl=ko&tab=wn\">뉴스</a> <a class=gb1 href=\"https://mail.google.com/mail/?tab=wm\">Gmail</a> <a class=gb1 href=\"https://drive.google.com/?tab=wo\">드라이브</a> <a class=gb1 style=\"text-decoration:none\" href=\"https://www.google.co.kr/intl/ko/options/\"><u>더보기</u> &raquo;</a></nobr></div><div id=guser width=100%><nobr><span id=gbn class=gbi></span><span id=gbf class=gbf></span><span id=gbe></span><a href=\"http://www.google.co.kr/history/optout?hl=ko\" class=gb4>웹 기록</a> | <a  href=\"/preferences?hl=ko\" class=gb4>설정</a> | <a target=_top id=gb_70 href=\"https://accounts.google.com/ServiceLogin?hl=ko&passive=true&continue=http://www.google.co.kr/%3Fgfe_rd%3Dcr%26dcr%3D0%26ei%3DTrpgWsiFIOedX-ndiIgD\" class=gb4>로그인</a></nobr></div><div class=gbh style=left:0></div><div class=gbh style=right:0></div> </div><center><br clear=\"all\" id=\"lgpd\"><div id=\"lga\"><div style=\"padding:28px 0 3px\"><div style=\"height:110px;width:276px;background:url(/images/branding/googlelogo/1x/googlelogo_white_background_color_272x92dp.png) no-repeat\" title=\"Google\" align=\"left\" id=\"hplogo\" onload=\"window.lol&&lol()\"><div style=\"color:#777;font-size:16px;font-weight:bold;position:relative;top:70px;left:218px\" nowrap=\"\">한국\\r\\n</div></div></div><br></div><form action=\"/search\" name=\"f\"><table cellpadding=\"0\" cellspacing=\"0\"><tr valign=\"top\"><td width=\"25%\">&nbsp;</td><td align=\"center\" nowrap=\"\"><input name=\"ie\" value=\"EUC-KR\" type=\"hidden\"><input value=\"ko\" name=\"hl\" type=\"hidden\"><input name=\"source\" type=\"hidden\" value=\"hp\"><input name=\"biw\" type=\"hidden\"><input name=\"bih\" type=\"hidden\"><div class=\"ds\" style=\"height:32px;margin:4px 0\"><div style=\"position:relative;zoom:1\"><input style=\"color:#000;margin:0;padding:5px 8px 0 6px;vertical-align:top;padding-right:38px\" autocomplete=\"off\" class=\"lst tiah\" value=\"\" title=\"Google 검색\" maxlength=\"2048\" name=\"q\" size=\"57\"><img src=\"/textinputassistant/tia.png\" style=\"position:absolute;cursor:pointer;right:5px;top:4px;z-index:300\" onclick=\"(function(){var src=\\'/textinputassistant/11/ko_tia.js\\';var s=document.createElement(\\'script\\');s.src=src;(document.getElementById(\\'xjsc\\')||document.body).appendChild(s);})();\" alt=\"\" height=\"23\" width=\"27\"></div></div><br style=\"line-height:0\"><span class=\"ds\"><span class=\"lsbb\"><input class=\"lsb\" value=\"Google 검색\" name=\"btnG\" type=\"submit\"></span></span><span class=\"ds\"><span class=\"lsbb\"><input class=\"lsb\" value=\"I’m Feeling Lucky\" name=\"btnI\" onclick=\"if(this.form.q.value)this.checked=1; else top.location=\\'/doodles/\\'\" type=\"submit\"></span></span></td><td class=\"fl sblc\" align=\"left\" nowrap=\"\" width=\"25%\"><a href=\"/advanced_search?hl=ko&amp;authuser=0\">고급검색</a><a href=\"/language_tools?hl=ko&amp;authuser=0\">언어도구</a></td></tr></table><input id=\"gbv\" name=\"gbv\" type=\"hidden\" value=\"1\"></form><div id=\"gac_scont\"></div><div style=\"font-size:83%;min-height:3.5em\"><br></div><span id=\"footer\"><div style=\"font-size:10pt\"><div style=\"margin:19px auto;text-align:center\" id=\"fll\"><a href=\"/intl/ko/ads/\">광고 프로그램</a><a href=\"http://www.google.co.kr/intl/ko/services/\">비즈니스 솔루션</a><a href=\"https://plus.google.com/102197601262446632410\" rel=\"publisher\">+Google</a><a href=\"/intl/ko/about.html\">Google 정보</a><a href=\"http://www.google.co.kr/setprefdomain?prefdom=US&amp;sig=__nJsmbJbMCoB34uiOyZW9QrnBMc8%3D\" id=\"fehl\">Google.com</a></div></div><p style=\"color:#767676;font-size:8pt\">&copy; 2018 - <a href=\"/intl/ko/policies/privacy/\">개인정보처리방침</a> - <a href=\"/intl/ko/policies/terms/\">약관</a></p></span></center><script>(function(){window.google.cdo={height:0,width:0};(function(){var a=window.innerWidth,b=window.innerHeight;if(!a||!b){var c=window.document,d=\"CSS1Compat\"==c.compatMode?c.documentElement:c.body;a=d.clientWidth;b=d.clientHeight}a&&b&&(a!=google.cdo.width||b!=google.cdo.height)&&google.log(\"\",\"\",\"/client_204?&atyp=i&biw=\"+a+\"&bih=\"+b+\"&ei=\"+google.kEI);}).call(this);})();</script><div id=\"xjsd\"></div><div id=\"xjsi\"><script>(function(){function c(b){window.setTimeout(function(){var a=document.createElement(\"script\");a.src=b;google.timers&&google.timers.load.t&&google.tick(\"load\",{gen204:\"xjsls\",clearcut:31});document.getElementById(\"xjsd\").appendChild(a)},0)}google.dljp=function(b,a){google.xjsu=b;c(a)};google.dlj=c;}).call(this);(function(){var r=[];google.plm(r);})();if(!google.xjs){window._=window._||{};window._DumpException=window._._DumpException=function(e){throw e};google.dljp(\\'/xjs/_/js/k\\\\x3dxjs.hp.en_US.z-wHmCpdpCg.O/m\\\\x3dsb_he,d/am\\\\x3dABA/rt\\\\x3dj/d\\\\x3d1/t\\\\x3dzcms/rs\\\\x3dACT90oFx1X67u0OoYMJC5LxWb3mLZHZm_Q\\',\\'/xjs/_/js/k\\\\x3dxjs.hp.en_US.z-wHmCpdpCg.O/m\\\\x3dsb_he,d/am\\\\x3dABA/rt\\\\x3dj/d\\\\x3d1/t\\\\x3dzcms/rs\\\\x3dACT90oFx1X67u0OoYMJC5LxWb3mLZHZm_Q\\');google.xjs=1;}google.pmc={\"sb_he\":{\"agen\":false,\"cgen\":false,\"client\":\"heirloom-hp\",\"dh\":true,\"dhqt\":true,\"ds\":\"\",\"fl\":true,\"host\":\"google.co.kr\",\"isbh\":28,\"jam\":0,\"jsonp\":true,\"msgs\":{\"cibl\":\"검색어 지우기\",\"dym\":\"이것을 찾으셨나요?\",\"lcky\":\"I’m Feeling Lucky\",\"lml\":\"자세히 알아보기\",\"oskt\":\"입력 도구\",\"psrc\":\"검색어가 \\\\u003Ca href=\\\\\"/history\\\\\"\\\\u003E웹 기록\\\\u003C/a\\\\u003E에서 삭제되었습니다.\",\"psrl\":\"삭제\",\"sbit\":\"이미지로 검색\",\"srch\":\"Google 검색\"},\"nds\":true,\"ovr\":{},\"pq\":\"\",\"refpd\":true,\"refspre\":true,\"rfs\":[],\"sbpl\":24,\"sbpr\":24,\"scd\":10,\"sce\":5,\"stok\":\"5NMy3vlVyWH9yw5exDT0DynfWNk\"},\"d\":{},\"YFCs/g\":{}};google.x(null,function(){});(function(){var ctx=[]\\n;google.jsc && google.jsc.x(ctx);})();</script></div></body></html>'"
      ]
     },
     "execution_count": 176,
     "metadata": {},
     "output_type": "execute_result"
    }
   ],
   "source": [
    "import requests\n",
    "r = requests.get('http://google.com')\n",
    "r.text"
   ]
  },
  {
   "cell_type": "code",
   "execution_count": null,
   "metadata": {},
   "outputs": [],
   "source": []
  },
  {
   "cell_type": "code",
   "execution_count": null,
   "metadata": {},
   "outputs": [],
   "source": []
  },
  {
   "cell_type": "code",
   "execution_count": null,
   "metadata": {},
   "outputs": [],
   "source": []
  },
  {
   "cell_type": "code",
   "execution_count": null,
   "metadata": {},
   "outputs": [],
   "source": []
  },
  {
   "cell_type": "code",
   "execution_count": null,
   "metadata": {},
   "outputs": [],
   "source": []
  }
 ],
 "metadata": {
  "kernelspec": {
   "display_name": "Python 3",
   "language": "python",
   "name": "python3"
  },
  "language_info": {
   "codemirror_mode": {
    "name": "ipython",
    "version": 3
   },
   "file_extension": ".py",
   "mimetype": "text/x-python",
   "name": "python",
   "nbconvert_exporter": "python",
   "pygments_lexer": "ipython3",
   "version": "3.6.3"
  }
 },
 "nbformat": 4,
 "nbformat_minor": 2
}
